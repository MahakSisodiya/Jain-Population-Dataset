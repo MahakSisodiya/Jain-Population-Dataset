{
 "cells": [
  {
   "cell_type": "code",
   "execution_count": 1,
   "id": "c8ade416",
   "metadata": {},
   "outputs": [],
   "source": [
    "# import required libraries.\n",
    "\n",
    "import numpy as np\n",
    "import pandas as pd\n",
    "import matplotlib.pyplot as plt\n",
    "import seaborn as sns"
   ]
  },
  {
   "cell_type": "code",
   "execution_count": 2,
   "id": "125cb93b",
   "metadata": {},
   "outputs": [
    {
     "data": {
      "text/html": [
       "<div>\n",
       "<style scoped>\n",
       "    .dataframe tbody tr th:only-of-type {\n",
       "        vertical-align: middle;\n",
       "    }\n",
       "\n",
       "    .dataframe tbody tr th {\n",
       "        vertical-align: top;\n",
       "    }\n",
       "\n",
       "    .dataframe thead th {\n",
       "        text-align: right;\n",
       "    }\n",
       "</style>\n",
       "<table border=\"1\" class=\"dataframe\">\n",
       "  <thead>\n",
       "    <tr style=\"text-align: right;\">\n",
       "      <th></th>\n",
       "      <th>S. No.</th>\n",
       "      <th>State</th>\n",
       "      <th>Persons (total)</th>\n",
       "      <th>Persons (rural)</th>\n",
       "      <th>Persons (urban)</th>\n",
       "      <th>Male (total)</th>\n",
       "      <th>Male (rural)</th>\n",
       "      <th>Male (urban)</th>\n",
       "      <th>Female (total)</th>\n",
       "      <th>Female (rural)</th>\n",
       "      <th>Female (urban)</th>\n",
       "    </tr>\n",
       "  </thead>\n",
       "  <tbody>\n",
       "    <tr>\n",
       "      <th>0</th>\n",
       "      <td>1</td>\n",
       "      <td>India</td>\n",
       "      <td>4,451,753</td>\n",
       "      <td>904,809</td>\n",
       "      <td>3,546,944</td>\n",
       "      <td>2,278,097</td>\n",
       "      <td>467,577</td>\n",
       "      <td>1,810,520</td>\n",
       "      <td>2,173,656</td>\n",
       "      <td>437,232</td>\n",
       "      <td>1,736,424</td>\n",
       "    </tr>\n",
       "    <tr>\n",
       "      <th>1</th>\n",
       "      <td>2</td>\n",
       "      <td>Maharashtra</td>\n",
       "      <td>1,400,349</td>\n",
       "      <td>269,959</td>\n",
       "      <td>1,130,390</td>\n",
       "      <td>713,157</td>\n",
       "      <td>140,476</td>\n",
       "      <td>572,681</td>\n",
       "      <td>687,192</td>\n",
       "      <td>129,483</td>\n",
       "      <td>557,709</td>\n",
       "    </tr>\n",
       "    <tr>\n",
       "      <th>2</th>\n",
       "      <td>3</td>\n",
       "      <td>Rajasthan</td>\n",
       "      <td>622,023</td>\n",
       "      <td>166,322</td>\n",
       "      <td>455,701</td>\n",
       "      <td>317,614</td>\n",
       "      <td>84,649</td>\n",
       "      <td>232,965</td>\n",
       "      <td>304,409</td>\n",
       "      <td>81,673</td>\n",
       "      <td>222,736</td>\n",
       "    </tr>\n",
       "    <tr>\n",
       "      <th>3</th>\n",
       "      <td>4</td>\n",
       "      <td>Gujarat</td>\n",
       "      <td>579,654</td>\n",
       "      <td>44,118</td>\n",
       "      <td>535,536</td>\n",
       "      <td>294,911</td>\n",
       "      <td>22,357</td>\n",
       "      <td>272,554</td>\n",
       "      <td>284,743</td>\n",
       "      <td>21,761</td>\n",
       "      <td>262,982</td>\n",
       "    </tr>\n",
       "    <tr>\n",
       "      <th>4</th>\n",
       "      <td>5</td>\n",
       "      <td>Madhya Pradesh</td>\n",
       "      <td>567,028</td>\n",
       "      <td>109,699</td>\n",
       "      <td>457,329</td>\n",
       "      <td>291,937</td>\n",
       "      <td>57,431</td>\n",
       "      <td>234,506</td>\n",
       "      <td>275,091</td>\n",
       "      <td>52,268</td>\n",
       "      <td>222,823</td>\n",
       "    </tr>\n",
       "  </tbody>\n",
       "</table>\n",
       "</div>"
      ],
      "text/plain": [
       "   S. No.           State Persons (total) Persons (rural) Persons (urban)  \\\n",
       "0       1           India       4,451,753         904,809       3,546,944   \n",
       "1       2     Maharashtra       1,400,349         269,959       1,130,390   \n",
       "2       3       Rajasthan         622,023         166,322         455,701   \n",
       "3       4         Gujarat         579,654          44,118         535,536   \n",
       "4       5  Madhya Pradesh         567,028         109,699         457,329   \n",
       "\n",
       "  Male (total) Male (rural) Male (urban) Female (total) Female (rural)  \\\n",
       "0    2,278,097      467,577    1,810,520      2,173,656        437,232   \n",
       "1      713,157      140,476      572,681        687,192        129,483   \n",
       "2      317,614       84,649      232,965        304,409         81,673   \n",
       "3      294,911       22,357      272,554        284,743         21,761   \n",
       "4      291,937       57,431      234,506        275,091         52,268   \n",
       "\n",
       "  Female (urban)  \n",
       "0      1,736,424  \n",
       "1        557,709  \n",
       "2        222,736  \n",
       "3        262,982  \n",
       "4        222,823  "
      ]
     },
     "execution_count": 2,
     "metadata": {},
     "output_type": "execute_result"
    }
   ],
   "source": [
    "# read data.\n",
    "\n",
    "df = pd.read_csv(\"Jain Data.csv\")\n",
    "df.head()"
   ]
  },
  {
   "cell_type": "code",
   "execution_count": 3,
   "id": "35dc4b44",
   "metadata": {},
   "outputs": [
    {
     "data": {
      "text/plain": [
       "(10, 11)"
      ]
     },
     "execution_count": 3,
     "metadata": {},
     "output_type": "execute_result"
    }
   ],
   "source": [
    "# check number of rows and columns.\n",
    "df.shape"
   ]
  },
  {
   "cell_type": "code",
   "execution_count": 4,
   "id": "4e407064",
   "metadata": {},
   "outputs": [
    {
     "data": {
      "text/html": [
       "<div>\n",
       "<style scoped>\n",
       "    .dataframe tbody tr th:only-of-type {\n",
       "        vertical-align: middle;\n",
       "    }\n",
       "\n",
       "    .dataframe tbody tr th {\n",
       "        vertical-align: top;\n",
       "    }\n",
       "\n",
       "    .dataframe thead th {\n",
       "        text-align: right;\n",
       "    }\n",
       "</style>\n",
       "<table border=\"1\" class=\"dataframe\">\n",
       "  <thead>\n",
       "    <tr style=\"text-align: right;\">\n",
       "      <th></th>\n",
       "      <th>S. No.</th>\n",
       "      <th>State</th>\n",
       "      <th>Persons (total)</th>\n",
       "      <th>Persons (rural)</th>\n",
       "      <th>Persons (urban)</th>\n",
       "      <th>Male (total)</th>\n",
       "      <th>Male (rural)</th>\n",
       "      <th>Male (urban)</th>\n",
       "      <th>Female (total)</th>\n",
       "      <th>Female (rural)</th>\n",
       "      <th>Female (urban)</th>\n",
       "    </tr>\n",
       "  </thead>\n",
       "  <tbody>\n",
       "    <tr>\n",
       "      <th>0</th>\n",
       "      <td>1</td>\n",
       "      <td>India</td>\n",
       "      <td>4,451,753</td>\n",
       "      <td>904,809</td>\n",
       "      <td>3,546,944</td>\n",
       "      <td>2,278,097</td>\n",
       "      <td>467,577</td>\n",
       "      <td>1,810,520</td>\n",
       "      <td>2,173,656</td>\n",
       "      <td>437,232</td>\n",
       "      <td>1,736,424</td>\n",
       "    </tr>\n",
       "    <tr>\n",
       "      <th>1</th>\n",
       "      <td>2</td>\n",
       "      <td>Maharashtra</td>\n",
       "      <td>1,400,349</td>\n",
       "      <td>269,959</td>\n",
       "      <td>1,130,390</td>\n",
       "      <td>713,157</td>\n",
       "      <td>140,476</td>\n",
       "      <td>572,681</td>\n",
       "      <td>687,192</td>\n",
       "      <td>129,483</td>\n",
       "      <td>557,709</td>\n",
       "    </tr>\n",
       "    <tr>\n",
       "      <th>2</th>\n",
       "      <td>3</td>\n",
       "      <td>Rajasthan</td>\n",
       "      <td>622,023</td>\n",
       "      <td>166,322</td>\n",
       "      <td>455,701</td>\n",
       "      <td>317,614</td>\n",
       "      <td>84,649</td>\n",
       "      <td>232,965</td>\n",
       "      <td>304,409</td>\n",
       "      <td>81,673</td>\n",
       "      <td>222,736</td>\n",
       "    </tr>\n",
       "    <tr>\n",
       "      <th>3</th>\n",
       "      <td>4</td>\n",
       "      <td>Gujarat</td>\n",
       "      <td>579,654</td>\n",
       "      <td>44,118</td>\n",
       "      <td>535,536</td>\n",
       "      <td>294,911</td>\n",
       "      <td>22,357</td>\n",
       "      <td>272,554</td>\n",
       "      <td>284,743</td>\n",
       "      <td>21,761</td>\n",
       "      <td>262,982</td>\n",
       "    </tr>\n",
       "    <tr>\n",
       "      <th>4</th>\n",
       "      <td>5</td>\n",
       "      <td>Madhya Pradesh</td>\n",
       "      <td>567,028</td>\n",
       "      <td>109,699</td>\n",
       "      <td>457,329</td>\n",
       "      <td>291,937</td>\n",
       "      <td>57,431</td>\n",
       "      <td>234,506</td>\n",
       "      <td>275,091</td>\n",
       "      <td>52,268</td>\n",
       "      <td>222,823</td>\n",
       "    </tr>\n",
       "    <tr>\n",
       "      <th>5</th>\n",
       "      <td>6</td>\n",
       "      <td>Karnataka</td>\n",
       "      <td>440,280</td>\n",
       "      <td>220,362</td>\n",
       "      <td>219,918</td>\n",
       "      <td>225,544</td>\n",
       "      <td>113,598</td>\n",
       "      <td>111,946</td>\n",
       "      <td>214,736</td>\n",
       "      <td>106,764</td>\n",
       "      <td>107,972</td>\n",
       "    </tr>\n",
       "    <tr>\n",
       "      <th>6</th>\n",
       "      <td>7</td>\n",
       "      <td>Uttar Pradesh</td>\n",
       "      <td>213,267</td>\n",
       "      <td>30,144</td>\n",
       "      <td>183,123</td>\n",
       "      <td>110,994</td>\n",
       "      <td>15,852</td>\n",
       "      <td>95,142</td>\n",
       "      <td>102,273</td>\n",
       "      <td>14,292</td>\n",
       "      <td>87,981</td>\n",
       "    </tr>\n",
       "    <tr>\n",
       "      <th>7</th>\n",
       "      <td>8</td>\n",
       "      <td>Delhi</td>\n",
       "      <td>166,231</td>\n",
       "      <td>192</td>\n",
       "      <td>166,039</td>\n",
       "      <td>85,605</td>\n",
       "      <td>94</td>\n",
       "      <td>85,511</td>\n",
       "      <td>80,626</td>\n",
       "      <td>98</td>\n",
       "      <td>80,528</td>\n",
       "    </tr>\n",
       "    <tr>\n",
       "      <th>8</th>\n",
       "      <td>9</td>\n",
       "      <td>Tamil Nadu</td>\n",
       "      <td>89,265</td>\n",
       "      <td>10,084</td>\n",
       "      <td>79,181</td>\n",
       "      <td>45,605</td>\n",
       "      <td>5,044</td>\n",
       "      <td>40,561</td>\n",
       "      <td>43,660</td>\n",
       "      <td>5,040</td>\n",
       "      <td>38,620</td>\n",
       "    </tr>\n",
       "    <tr>\n",
       "      <th>9</th>\n",
       "      <td>10</td>\n",
       "      <td>Nigeria</td>\n",
       "      <td>1</td>\n",
       "      <td>1</td>\n",
       "      <td>0</td>\n",
       "      <td>0</td>\n",
       "      <td>0</td>\n",
       "      <td>0</td>\n",
       "      <td>0</td>\n",
       "      <td>1</td>\n",
       "      <td>0</td>\n",
       "    </tr>\n",
       "  </tbody>\n",
       "</table>\n",
       "</div>"
      ],
      "text/plain": [
       "   S. No.           State Persons (total) Persons (rural) Persons (urban)  \\\n",
       "0       1           India       4,451,753         904,809       3,546,944   \n",
       "1       2     Maharashtra       1,400,349         269,959       1,130,390   \n",
       "2       3       Rajasthan         622,023         166,322         455,701   \n",
       "3       4         Gujarat         579,654          44,118         535,536   \n",
       "4       5  Madhya Pradesh         567,028         109,699         457,329   \n",
       "5       6       Karnataka         440,280         220,362         219,918   \n",
       "6       7   Uttar Pradesh         213,267          30,144         183,123   \n",
       "7       8           Delhi         166,231             192         166,039   \n",
       "8       9      Tamil Nadu          89,265          10,084          79,181   \n",
       "9      10         Nigeria               1               1               0   \n",
       "\n",
       "  Male (total) Male (rural) Male (urban) Female (total) Female (rural)  \\\n",
       "0    2,278,097      467,577    1,810,520      2,173,656        437,232   \n",
       "1      713,157      140,476      572,681        687,192        129,483   \n",
       "2      317,614       84,649      232,965        304,409         81,673   \n",
       "3      294,911       22,357      272,554        284,743         21,761   \n",
       "4      291,937       57,431      234,506        275,091         52,268   \n",
       "5      225,544      113,598      111,946        214,736        106,764   \n",
       "6      110,994       15,852       95,142        102,273         14,292   \n",
       "7       85,605           94       85,511         80,626             98   \n",
       "8       45,605        5,044       40,561         43,660          5,040   \n",
       "9            0            0            0              0              1   \n",
       "\n",
       "  Female (urban)  \n",
       "0      1,736,424  \n",
       "1        557,709  \n",
       "2        222,736  \n",
       "3        262,982  \n",
       "4        222,823  \n",
       "5        107,972  \n",
       "6         87,981  \n",
       "7         80,528  \n",
       "8         38,620  \n",
       "9              0  "
      ]
     },
     "execution_count": 4,
     "metadata": {},
     "output_type": "execute_result"
    }
   ],
   "source": [
    "df"
   ]
  },
  {
   "cell_type": "code",
   "execution_count": 5,
   "id": "1c7af647",
   "metadata": {},
   "outputs": [
    {
     "name": "stdout",
     "output_type": "stream",
     "text": [
      "<class 'pandas.core.frame.DataFrame'>\n",
      "RangeIndex: 10 entries, 0 to 9\n",
      "Data columns (total 11 columns):\n",
      " #   Column           Non-Null Count  Dtype \n",
      "---  ------           --------------  ----- \n",
      " 0   S. No.           10 non-null     int64 \n",
      " 1   State            10 non-null     object\n",
      " 2   Persons (total)  10 non-null     object\n",
      " 3   Persons (rural)  10 non-null     object\n",
      " 4   Persons (urban)  10 non-null     object\n",
      " 5   Male (total)     10 non-null     object\n",
      " 6   Male (rural)     10 non-null     object\n",
      " 7   Male (urban)     10 non-null     object\n",
      " 8   Female (total)   10 non-null     object\n",
      " 9   Female (rural)   10 non-null     object\n",
      " 10  Female (urban)   10 non-null     object\n",
      "dtypes: int64(1), object(10)\n",
      "memory usage: 1008.0+ bytes\n"
     ]
    }
   ],
   "source": [
    "# check for null values and datatype.\n",
    "df.info()"
   ]
  },
  {
   "cell_type": "code",
   "execution_count": 6,
   "id": "56bc3e96",
   "metadata": {},
   "outputs": [
    {
     "data": {
      "text/html": [
       "<div>\n",
       "<style scoped>\n",
       "    .dataframe tbody tr th:only-of-type {\n",
       "        vertical-align: middle;\n",
       "    }\n",
       "\n",
       "    .dataframe tbody tr th {\n",
       "        vertical-align: top;\n",
       "    }\n",
       "\n",
       "    .dataframe thead th {\n",
       "        text-align: right;\n",
       "    }\n",
       "</style>\n",
       "<table border=\"1\" class=\"dataframe\">\n",
       "  <thead>\n",
       "    <tr style=\"text-align: right;\">\n",
       "      <th></th>\n",
       "      <th>S. No.</th>\n",
       "    </tr>\n",
       "  </thead>\n",
       "  <tbody>\n",
       "    <tr>\n",
       "      <th>count</th>\n",
       "      <td>10.00000</td>\n",
       "    </tr>\n",
       "    <tr>\n",
       "      <th>mean</th>\n",
       "      <td>5.50000</td>\n",
       "    </tr>\n",
       "    <tr>\n",
       "      <th>std</th>\n",
       "      <td>3.02765</td>\n",
       "    </tr>\n",
       "    <tr>\n",
       "      <th>min</th>\n",
       "      <td>1.00000</td>\n",
       "    </tr>\n",
       "    <tr>\n",
       "      <th>25%</th>\n",
       "      <td>3.25000</td>\n",
       "    </tr>\n",
       "    <tr>\n",
       "      <th>50%</th>\n",
       "      <td>5.50000</td>\n",
       "    </tr>\n",
       "    <tr>\n",
       "      <th>75%</th>\n",
       "      <td>7.75000</td>\n",
       "    </tr>\n",
       "    <tr>\n",
       "      <th>max</th>\n",
       "      <td>10.00000</td>\n",
       "    </tr>\n",
       "  </tbody>\n",
       "</table>\n",
       "</div>"
      ],
      "text/plain": [
       "         S. No.\n",
       "count  10.00000\n",
       "mean    5.50000\n",
       "std     3.02765\n",
       "min     1.00000\n",
       "25%     3.25000\n",
       "50%     5.50000\n",
       "75%     7.75000\n",
       "max    10.00000"
      ]
     },
     "execution_count": 6,
     "metadata": {},
     "output_type": "execute_result"
    }
   ],
   "source": [
    "# describe function.\n",
    "df.describe()"
   ]
  },
  {
   "cell_type": "code",
   "execution_count": 7,
   "id": "c2b313ba",
   "metadata": {},
   "outputs": [
    {
     "data": {
      "text/plain": [
       "S. No.             0\n",
       "State              0\n",
       "Persons (total)    0\n",
       "Persons (rural)    0\n",
       "Persons (urban)    0\n",
       "Male (total)       0\n",
       "Male (rural)       0\n",
       "Male (urban)       0\n",
       "Female (total)     0\n",
       "Female (rural)     0\n",
       "Female (urban)     0\n",
       "dtype: int64"
      ]
     },
     "execution_count": 7,
     "metadata": {},
     "output_type": "execute_result"
    }
   ],
   "source": [
    "# check for null values.\n",
    "df.isnull().sum()"
   ]
  },
  {
   "cell_type": "code",
   "execution_count": 8,
   "id": "670560d7",
   "metadata": {},
   "outputs": [
    {
     "data": {
      "text/plain": [
       "Index(['S. No.', 'State', 'Persons (total)', 'Persons (rural)',\n",
       "       'Persons (urban)', 'Male (total)', 'Male (rural)', 'Male (urban)',\n",
       "       'Female (total)', 'Female (rural)', 'Female (urban)'],\n",
       "      dtype='object')"
      ]
     },
     "execution_count": 8,
     "metadata": {},
     "output_type": "execute_result"
    }
   ],
   "source": [
    "df.columns"
   ]
  },
  {
   "cell_type": "code",
   "execution_count": 9,
   "id": "15e67c83",
   "metadata": {},
   "outputs": [
    {
     "name": "stdout",
     "output_type": "stream",
     "text": [
      "S. No.\n",
      "State\n",
      "Persons (total)\n",
      "Persons (rural)\n",
      "Persons (urban)\n",
      "Male (total)\n",
      "Male (rural)\n",
      "Male (urban)\n",
      "Female (total)\n",
      "Female (rural)\n",
      "Female (urban)\n"
     ]
    }
   ],
   "source": [
    "# print column names.\n",
    "for col in df.columns:\n",
    "    print(col)"
   ]
  },
  {
   "cell_type": "code",
   "execution_count": 10,
   "id": "fada310d",
   "metadata": {},
   "outputs": [
    {
     "name": "stdout",
     "output_type": "stream",
     "text": [
      "S. No.              int64\n",
      "State              object\n",
      "Persons (total)    object\n",
      "Persons (rural)    object\n",
      "Persons (urban)    object\n",
      "Male (total)       object\n",
      "Male (rural)       object\n",
      "Male (urban)       object\n",
      "Female (total)     object\n",
      "Female (rural)     object\n",
      "Female (urban)     object\n",
      "dtype: object\n"
     ]
    }
   ],
   "source": [
    "# check data types.\n",
    "print(df.dtypes)"
   ]
  },
  {
   "cell_type": "code",
   "execution_count": 11,
   "id": "c974ad30",
   "metadata": {},
   "outputs": [
    {
     "data": {
      "text/html": [
       "<div>\n",
       "<style scoped>\n",
       "    .dataframe tbody tr th:only-of-type {\n",
       "        vertical-align: middle;\n",
       "    }\n",
       "\n",
       "    .dataframe tbody tr th {\n",
       "        vertical-align: top;\n",
       "    }\n",
       "\n",
       "    .dataframe thead th {\n",
       "        text-align: right;\n",
       "    }\n",
       "</style>\n",
       "<table border=\"1\" class=\"dataframe\">\n",
       "  <thead>\n",
       "    <tr style=\"text-align: right;\">\n",
       "      <th></th>\n",
       "      <th>S. No.</th>\n",
       "      <th>State</th>\n",
       "      <th>Persons (total)</th>\n",
       "      <th>Persons (rural)</th>\n",
       "      <th>Persons (urban)</th>\n",
       "      <th>Male (total)</th>\n",
       "      <th>Male (rural)</th>\n",
       "      <th>Male (urban)</th>\n",
       "      <th>Female (total)</th>\n",
       "      <th>Female (rural)</th>\n",
       "      <th>Female (urban)</th>\n",
       "    </tr>\n",
       "  </thead>\n",
       "  <tbody>\n",
       "    <tr>\n",
       "      <th>0</th>\n",
       "      <td>1</td>\n",
       "      <td>India</td>\n",
       "      <td>4,451,753</td>\n",
       "      <td>904,809</td>\n",
       "      <td>3,546,944</td>\n",
       "      <td>2,278,097</td>\n",
       "      <td>467,577</td>\n",
       "      <td>1,810,520</td>\n",
       "      <td>2,173,656</td>\n",
       "      <td>437,232</td>\n",
       "      <td>1,736,424</td>\n",
       "    </tr>\n",
       "    <tr>\n",
       "      <th>1</th>\n",
       "      <td>2</td>\n",
       "      <td>Maharashtra</td>\n",
       "      <td>1,400,349</td>\n",
       "      <td>269,959</td>\n",
       "      <td>1,130,390</td>\n",
       "      <td>713,157</td>\n",
       "      <td>140,476</td>\n",
       "      <td>572,681</td>\n",
       "      <td>687,192</td>\n",
       "      <td>129,483</td>\n",
       "      <td>557,709</td>\n",
       "    </tr>\n",
       "  </tbody>\n",
       "</table>\n",
       "</div>"
      ],
      "text/plain": [
       "   S. No.        State Persons (total) Persons (rural) Persons (urban)  \\\n",
       "0       1        India       4,451,753         904,809       3,546,944   \n",
       "1       2  Maharashtra       1,400,349         269,959       1,130,390   \n",
       "\n",
       "  Male (total) Male (rural) Male (urban) Female (total) Female (rural)  \\\n",
       "0    2,278,097      467,577    1,810,520      2,173,656        437,232   \n",
       "1      713,157      140,476      572,681        687,192        129,483   \n",
       "\n",
       "  Female (urban)  \n",
       "0      1,736,424  \n",
       "1        557,709  "
      ]
     },
     "execution_count": 11,
     "metadata": {},
     "output_type": "execute_result"
    }
   ],
   "source": [
    "df.head(2)"
   ]
  },
  {
   "cell_type": "code",
   "execution_count": 12,
   "id": "9113847c",
   "metadata": {},
   "outputs": [
    {
     "data": {
      "text/plain": [
       "1000000"
      ]
     },
     "execution_count": 12,
     "metadata": {},
     "output_type": "execute_result"
    }
   ],
   "source": [
    "# Example.\n",
    "a = '1,000,000'\n",
    "int(a.replace(',' , ''))"
   ]
  },
  {
   "cell_type": "code",
   "execution_count": 13,
   "id": "209b2c81",
   "metadata": {},
   "outputs": [
    {
     "data": {
      "text/plain": [
       "dtype('O')"
      ]
     },
     "execution_count": 13,
     "metadata": {},
     "output_type": "execute_result"
    }
   ],
   "source": [
    "# Datatype\n",
    "df['Persons (total)'].dtypes"
   ]
  },
  {
   "cell_type": "code",
   "execution_count": 14,
   "id": "55e1438e",
   "metadata": {},
   "outputs": [
    {
     "data": {
      "text/plain": [
       "dtype('O')"
      ]
     },
     "execution_count": 14,
     "metadata": {},
     "output_type": "execute_result"
    }
   ],
   "source": [
    "# Datatype\n",
    "df['Male (total)'].dtypes"
   ]
  },
  {
   "cell_type": "markdown",
   "id": "7c61a2f6",
   "metadata": {},
   "source": [
    "# Change datatype object/string to integer type."
   ]
  },
  {
   "cell_type": "code",
   "execution_count": 15,
   "id": "003d5a3e",
   "metadata": {},
   "outputs": [],
   "source": [
    "df['Persons (total)']=df['Persons (total)'].str.replace(',','').astype(int)"
   ]
  },
  {
   "cell_type": "code",
   "execution_count": 16,
   "id": "7c8da11b",
   "metadata": {},
   "outputs": [],
   "source": [
    "df['Persons (rural)']=df['Persons (rural)'].str.replace(',','').astype(int)"
   ]
  },
  {
   "cell_type": "code",
   "execution_count": 17,
   "id": "26d40f89",
   "metadata": {},
   "outputs": [],
   "source": [
    "df['Persons (urban)']=df['Persons (urban)'].str.replace(',','').astype(int)"
   ]
  },
  {
   "cell_type": "code",
   "execution_count": 18,
   "id": "3c399192",
   "metadata": {},
   "outputs": [],
   "source": [
    "df['Female (total)']=df['Female (total)'].str.replace(',','').astype(int)"
   ]
  },
  {
   "cell_type": "code",
   "execution_count": 19,
   "id": "59f01e7e",
   "metadata": {},
   "outputs": [],
   "source": [
    "df['Female (rural)']=df['Female (rural)'].str.replace(',','').astype(int)"
   ]
  },
  {
   "cell_type": "code",
   "execution_count": 20,
   "id": "3b48ea63",
   "metadata": {},
   "outputs": [],
   "source": [
    "df['Female (urban)']=df['Female (urban)'].str.replace(',','').astype(int)"
   ]
  },
  {
   "cell_type": "code",
   "execution_count": 21,
   "id": "27d979f7",
   "metadata": {},
   "outputs": [],
   "source": [
    "df['Male (total)']=df['Male (total)'].str.replace(',','').astype(int)"
   ]
  },
  {
   "cell_type": "code",
   "execution_count": 22,
   "id": "98e75ff9",
   "metadata": {},
   "outputs": [],
   "source": [
    "df['Male (rural)']=df['Male (rural)'].str.replace(',','').astype(int)"
   ]
  },
  {
   "cell_type": "code",
   "execution_count": 23,
   "id": "ada74e0a",
   "metadata": {},
   "outputs": [],
   "source": [
    "df['Male (urban)']=df['Male (urban)'].str.replace(',','').astype(int)"
   ]
  },
  {
   "cell_type": "markdown",
   "id": "38f43e4a",
   "metadata": {},
   "source": [
    "# Some charts to get some insight"
   ]
  },
  {
   "cell_type": "code",
   "execution_count": 24,
   "id": "56a53d75",
   "metadata": {},
   "outputs": [],
   "source": [
    "x = df['State']\n",
    "x\n",
    "h=df['Female (total)']"
   ]
  },
  {
   "cell_type": "markdown",
   "id": "1d0d2276",
   "metadata": {},
   "source": [
    "# Bar charts"
   ]
  },
  {
   "cell_type": "code",
   "execution_count": 25,
   "id": "f3bcf47c",
   "metadata": {},
   "outputs": [
    {
     "data": {
      "image/png": "[encoded data removed]",
      "text/plain": [
       "<Figure size 864x432 with 1 Axes>"
      ]
     },
     "metadata": {
      "needs_background": "light"
     },
     "output_type": "display_data"
    }
   ],
   "source": [
    "#fig = plt.figure()\n",
    "fig, ax = plt.subplots(figsize=(12, 6))\n",
    "\n",
    "#fig.set_size_inches(20, 8)\n",
    "\n",
    "plt.bar(x,h,width=0.8,align ='center',color='blue')\n",
    "\n",
    "#plt.xlabel('State',fontsize=34)\n",
    "#plt.ylabel('Female total',fontsize=34)\n",
    "\n",
    "ax.set_title('Population', fontsize=20)\n",
    "ax.set_xlabel('State', fontsize=20)\n",
    "ax.set_ylabel('Female total', fontsize=20)\n",
    "\n",
    "plt.show()"
   ]
  },
  {
   "cell_type": "code",
   "execution_count": 26,
   "id": "54b8c780",
   "metadata": {},
   "outputs": [],
   "source": [
    "x= df['State']\n",
    "h=df['Female (rural)']"
   ]
  },
  {
   "cell_type": "code",
   "execution_count": 28,
   "id": "85978386",
   "metadata": {},
   "outputs": [
    {
     "data": {
      "image/png": "[encoded data removed]",
      "text/plain": [
       "<Figure size 864x432 with 1 Axes>"
      ]
     },
     "metadata": {
      "needs_background": "light"
     },
     "output_type": "display_data"
    }
   ],
   "source": [
    "fig, ax = plt.subplots(figsize=(12, 6))\n",
    "\n",
    "plt.bar(x,h,width=0.8,align='center',color='turquoise')\n",
    "\n",
    "plt.xlabel('State',fontsize=20)\n",
    "plt.ylabel('Female rural',fontsize=20)\n",
    "plt.title('Population',fontsize=20)\n",
    "\n",
    "#ax.set_title('Population', fontsize=20)\n",
    "#ax.set_xlabel('state', fontsize=16)\n",
    "#ax.set_ylabel('Female rural', fontsize=16)\n",
    "\n",
    "plt.show()"
   ]
  },
  {
   "cell_type": "code",
   "execution_count": 29,
   "id": "f3661aa9",
   "metadata": {},
   "outputs": [],
   "source": [
    "x= df['State']\n",
    "h= df['Female (urban)']"
   ]
  },
  {
   "cell_type": "code",
   "execution_count": 30,
   "id": "1e5a9b2b",
   "metadata": {},
   "outputs": [
    {
     "data": {
      "image/png": "[encoded data removed]",
      "text/plain": [
       "<Figure size 864x432 with 1 Axes>"
      ]
     },
     "metadata": {
      "needs_background": "light"
     },
     "output_type": "display_data"
    }
   ],
   "source": [
    "fig, ax = plt.subplots(figsize=(12, 6))\n",
    "\n",
    "plt.bar(x,h,width=0.8,align='center',color='pink')\n",
    "\n",
    "#plt.xlabel('state')\n",
    "#plt.ylabel('Female urban')\n",
    "\n",
    "ax.set_title('Population', fontsize=20)\n",
    "ax.set_xlabel('State', fontsize=20)\n",
    "ax.set_ylabel('Female urban', fontsize=20)\n",
    "\n",
    "plt.show()"
   ]
  },
  {
   "cell_type": "code",
   "execution_count": 31,
   "id": "a3658f52",
   "metadata": {},
   "outputs": [],
   "source": [
    "x= df['State']\n",
    "h= df['Male (total)']"
   ]
  },
  {
   "cell_type": "code",
   "execution_count": 32,
   "id": "9d63e990",
   "metadata": {},
   "outputs": [
    {
     "data": {
      "image/png": "[encoded data removed]",
      "text/plain": [
       "<Figure size 864x432 with 1 Axes>"
      ]
     },
     "metadata": {
      "needs_background": "light"
     },
     "output_type": "display_data"
    }
   ],
   "source": [
    "fig, ax = plt.subplots(figsize=(12,6))\n",
    "\n",
    "plt.bar(x,h,width=0.8,align='center',color='rosybrown')\n",
    "\n",
    "plt.xlabel('State',fontsize=20)\n",
    "plt.ylabel('Male total',fontsize=20)\n",
    "plt.title('Populaiton',fontsize=20)\n",
    "\n",
    "#ax.set_title('Population',fontsize=20)\n",
    "#ax.set_xlabel('State',fontsize=16)\n",
    "#ax.set_ylabel('Male total',fontsize=16)\n",
    "\n",
    "plt.show()"
   ]
  },
  {
   "cell_type": "code",
   "execution_count": 33,
   "id": "f5f49dca",
   "metadata": {},
   "outputs": [],
   "source": [
    "x= df['State']\n",
    "h= df['Male (rural)']"
   ]
  },
  {
   "cell_type": "code",
   "execution_count": 34,
   "id": "8561f4af",
   "metadata": {},
   "outputs": [
    {
     "data": {
      "image/png": "[encoded data removed]",
      "text/plain": [
       "<Figure size 864x432 with 1 Axes>"
      ]
     },
     "metadata": {
      "needs_background": "light"
     },
     "output_type": "display_data"
    }
   ],
   "source": [
    "# Horizontal bar chart.\n",
    "\n",
    "fig, ax = plt.subplots(figsize=(12,6))\n",
    "\n",
    "plt.barh(x,h,color='darkseagreen')\n",
    "\n",
    "#plt.xlabel('State')\n",
    "#plt.ylabel('Male rural')\n",
    "\n",
    "ax.set_title('Population',fontsize=20)\n",
    "ax.set_xlabel('Male rural',fontsize=20)\n",
    "ax.set_ylabel('State',fontsize=20)\n",
    "\n",
    "plt.show()"
   ]
  },
  {
   "cell_type": "code",
   "execution_count": 35,
   "id": "a8f7e591",
   "metadata": {},
   "outputs": [],
   "source": [
    "x= df['State']\n",
    "y = df['Male (urban)']"
   ]
  },
  {
   "cell_type": "code",
   "execution_count": 36,
   "id": "4558862b",
   "metadata": {},
   "outputs": [
    {
     "data": {
      "image/png": "[encoded data removed]",
      "text/plain": [
       "<Figure size 864x432 with 1 Axes>"
      ]
     },
     "metadata": {
      "needs_background": "light"
     },
     "output_type": "display_data"
    }
   ],
   "source": [
    "fig, ax = plt.subplots(figsize=(12,6))\n",
    "\n",
    "plt.bar(x,y,width=0.8,align='center',color='plum')\n",
    "\n",
    "plt.xlabel('State',fontsize=20)\n",
    "plt.ylabel('Male urban',fontsize=20)\n",
    "plt.title('Population',fontsize=20)\n",
    "\n",
    "#ax.set_title('Population',fontsize=20)\n",
    "#ax.set_xlabel('State',fontsize=16)\n",
    "#ax.set_ylabel('Male urban',fontsize=16)\n",
    "\n",
    "plt.show()"
   ]
  },
  {
   "cell_type": "code",
   "execution_count": 37,
   "id": "9ae436c2",
   "metadata": {},
   "outputs": [],
   "source": [
    "x= df['State']\n",
    "y = df['Persons (rural)']"
   ]
  },
  {
   "cell_type": "code",
   "execution_count": 38,
   "id": "312c26e5",
   "metadata": {},
   "outputs": [
    {
     "data": {
      "image/png": "[encoded data removed]",
      "text/plain": [
       "<Figure size 864x432 with 1 Axes>"
      ]
     },
     "metadata": {
      "needs_background": "light"
     },
     "output_type": "display_data"
    }
   ],
   "source": [
    "fig, ax = plt.subplots(figsize=(12,6))\n",
    "\n",
    "plt.bar(x,y,width=0.8,align='center',color='slategrey')\n",
    "\n",
    "#plt.xlabel('State')\n",
    "#plt.ylabel('Persons rural')\n",
    "\n",
    "ax.set_title('Population',fontsize=20)\n",
    "ax.set_xlabel('State',fontsize=20)\n",
    "ax.set_ylabel('Persons rural',fontsize=20)\n",
    "\n",
    "plt.show()"
   ]
  },
  {
   "cell_type": "code",
   "execution_count": 39,
   "id": "d1016058",
   "metadata": {},
   "outputs": [],
   "source": [
    "x = df['State']\n",
    "y = df['Persons (urban)']"
   ]
  },
  {
   "cell_type": "code",
   "execution_count": 40,
   "id": "50a9364f",
   "metadata": {},
   "outputs": [
    {
     "data": {
      "image/png": "[encoded data removed]",
      "text/plain": [
       "<Figure size 864x432 with 1 Axes>"
      ]
     },
     "metadata": {
      "needs_background": "light"
     },
     "output_type": "display_data"
    }
   ],
   "source": [
    "fig, ax = plt.subplots(figsize=(12,6))\n",
    "\n",
    "plt.bar(x,y, width=0.8,align='center',color='tan')\n",
    "\n",
    "plt.xlabel('State',fontsize=20)\n",
    "plt.ylabel('Persons urban',fontsize=20)\n",
    "plt.title('Population',fontsize=20)\n",
    "\n",
    "#ax.set_title('Population',fontsize=20)\n",
    "#ax.set_xlabel('State',fontsize=16)\n",
    "#ax.set_ylabel('Persons urban', fontsize= 16)\n",
    "\n",
    "plt.show()"
   ]
  },
  {
   "cell_type": "code",
   "execution_count": 41,
   "id": "55dabc9c",
   "metadata": {},
   "outputs": [],
   "source": [
    "x= df['State']\n",
    "y = df['Persons (total)']"
   ]
  },
  {
   "cell_type": "code",
   "execution_count": 42,
   "id": "47f9d030",
   "metadata": {},
   "outputs": [
    {
     "data": {
      "image/png": "[encoded data removed]",
      "text/plain": [
       "<Figure size 720x360 with 1 Axes>"
      ]
     },
     "metadata": {
      "needs_background": "light"
     },
     "output_type": "display_data"
    }
   ],
   "source": [
    "plt.figure(figsize=[10,5])\n",
    "\n",
    "axis = sns.barplot(data=df,x ='State',y ='Persons (total)') \n",
    "\n",
    "plt.show()"
   ]
  },
  {
   "cell_type": "markdown",
   "id": "b254f8e8",
   "metadata": {},
   "source": [
    "# All above charts show that Delhi and Nigeria show least values and number of jain population are minimum."
   ]
  },
  {
   "cell_type": "code",
   "execution_count": 43,
   "id": "d7549aa0",
   "metadata": {},
   "outputs": [
    {
     "data": {
      "text/plain": [
       "dtype('int32')"
      ]
     },
     "execution_count": 43,
     "metadata": {},
     "output_type": "execute_result"
    }
   ],
   "source": [
    "df['Persons (total)'].dtypes"
   ]
  },
  {
   "cell_type": "markdown",
   "id": "3c0b6e5b",
   "metadata": {},
   "source": [
    "# Pie Chart"
   ]
  },
  {
   "cell_type": "code",
   "execution_count": 46,
   "id": "bdd06cb2",
   "metadata": {},
   "outputs": [
    {
     "data": {
      "image/png": "[encoded data removed]",
      "text/plain": [
       "<Figure size 720x504 with 1 Axes>"
      ]
     },
     "metadata": {},
     "output_type": "display_data"
    }
   ],
   "source": [
    "plt.figure(figsize=(10,7))\n",
    "\n",
    "labels = ['India', 'Maharashtra', 'Rajasthan', 'Gujarat', 'Madhya Pradesh', 'Karnataka', 'Uttar Pradesh', 'Delhi', 'Tamil Nadu', 'Nigeria']\n",
    "\n",
    "values = [4451753,1400349,622023,579654,567028,440280,213267,166231,89265,1]\n",
    "\n",
    "color = ['pink','hotpink','thistle','lightpink','peachpuff','deeppink','plum','burlywood','rosybrown','navy']\n",
    "#exp = [0,0,0,0,0,0,0.2,0.2,0.2,0]\n",
    "\n",
    "plt.pie(values,labels = labels,colors = color)\n",
    "\n",
    "plt.show()"
   ]
  },
  {
   "cell_type": "code",
   "execution_count": 47,
   "id": "7953ac56",
   "metadata": {},
   "outputs": [
    {
     "data": {
      "text/plain": [
       "0    4451753\n",
       "1    1400349\n",
       "2     622023\n",
       "3     579654\n",
       "4     567028\n",
       "5     440280\n",
       "6     213267\n",
       "7     166231\n",
       "8      89265\n",
       "9          1\n",
       "Name: Persons (total), dtype: int32"
      ]
     },
     "execution_count": 47,
     "metadata": {},
     "output_type": "execute_result"
    }
   ],
   "source": [
    "df['Persons (total)']"
   ]
  },
  {
   "cell_type": "code",
   "execution_count": 48,
   "id": "5ee09a54",
   "metadata": {},
   "outputs": [
    {
     "data": {
      "text/plain": [
       "0             India\n",
       "1       Maharashtra\n",
       "2         Rajasthan\n",
       "3           Gujarat\n",
       "4    Madhya Pradesh\n",
       "5         Karnataka\n",
       "6     Uttar Pradesh\n",
       "7             Delhi\n",
       "8        Tamil Nadu\n",
       "9           Nigeria\n",
       "Name: State, dtype: object"
      ]
     },
     "execution_count": 48,
     "metadata": {},
     "output_type": "execute_result"
    }
   ],
   "source": [
    "df['State']"
   ]
  },
  {
   "cell_type": "code",
   "execution_count": 49,
   "id": "2040d25d",
   "metadata": {},
   "outputs": [],
   "source": [
    "x= df['State']\n",
    "y = df['Female (rural)']"
   ]
  },
  {
   "cell_type": "code",
   "execution_count": 53,
   "id": "345f4507",
   "metadata": {},
   "outputs": [
    {
     "data": {
      "image/png": "[encoded data removed]",
      "text/plain": [
       "<Figure size 360x216 with 1 Axes>"
      ]
     },
     "metadata": {},
     "output_type": "display_data"
    }
   ],
   "source": [
    "# same pie chart with improved version.\n",
    "\n",
    "plt.figure(figsize=(5,3))\n",
    "\n",
    "plt.pie(y,labels=x,radius=3,autopct='%0.01f%%',explode=[.05,.05,.05,.05,.05,.05,.07,.07,.07,.07],colors = color)\n",
    "\n",
    "plt.show()"
   ]
  },
  {
   "cell_type": "code",
   "execution_count": 54,
   "id": "2276a5d0",
   "metadata": {},
   "outputs": [
    {
     "data": {
      "text/plain": [
       "dtype('int32')"
      ]
     },
     "execution_count": 54,
     "metadata": {},
     "output_type": "execute_result"
    }
   ],
   "source": [
    "df['Persons (total)'].dtypes"
   ]
  },
  {
   "cell_type": "code",
   "execution_count": 55,
   "id": "727f39cf",
   "metadata": {},
   "outputs": [
    {
     "data": {
      "text/plain": [
       "dtype('int32')"
      ]
     },
     "execution_count": 55,
     "metadata": {},
     "output_type": "execute_result"
    }
   ],
   "source": [
    "df['Female (rural)'].dtypes"
   ]
  },
  {
   "cell_type": "code",
   "execution_count": 56,
   "id": "900b7353",
   "metadata": {},
   "outputs": [
    {
     "data": {
      "image/png": "[encoded data removed]",
      "text/plain": [
       "<Figure size 720x360 with 1 Axes>"
      ]
     },
     "metadata": {
      "needs_background": "light"
     },
     "output_type": "display_data"
    }
   ],
   "source": [
    "# AS an experiment.\n",
    "\n",
    "df.pivot(index='S. No.',columns='State',values='Female (rural)').plot(kind='bar',figsize=(10,5),width=3)\n",
    "\n",
    "plt.title('Population',fontsize=20)\n",
    "plt.xlabel('State',fontsize=16)\n",
    "plt.ylabel('Female rural',fontsize=16)\n",
    "\n",
    "plt.show()"
   ]
  },
  {
   "cell_type": "code",
   "execution_count": 57,
   "id": "4e8321ac",
   "metadata": {},
   "outputs": [
    {
     "data": {
      "image/png": "[encoded data removed]",
      "text/plain": [
       "<Figure size 720x360 with 1 Axes>"
      ]
     },
     "metadata": {
      "needs_background": "light"
     },
     "output_type": "display_data"
    }
   ],
   "source": [
    "# As an experiment.\n",
    "\n",
    "df.pivot(index='S. No.',columns='State',values='Female (rural)').plot(kind='barh',figsize=(10,5),width=3)\n",
    "\n",
    "plt.xlabel('State',fontsize=16)\n",
    "plt.ylabel('Female rural',fontsize=16)\n",
    "plt.title('Population',fontsize=20)\n",
    "\n",
    "plt.show()"
   ]
  },
  {
   "cell_type": "markdown",
   "id": "6c373e0c",
   "metadata": {},
   "source": [
    "# Stacked bar chart to compare values"
   ]
  },
  {
   "cell_type": "code",
   "execution_count": 58,
   "id": "9157575e",
   "metadata": {},
   "outputs": [
    {
     "data": {
      "image/png": "[encoded data removed]",
      "text/plain": [
       "<Figure size 720x360 with 1 Axes>"
      ]
     },
     "metadata": {
      "needs_background": "light"
     },
     "output_type": "display_data"
    }
   ],
   "source": [
    "# This is for male and female of rural area.\n",
    "\n",
    "plt.figure(figsize=[10,5])\n",
    "\n",
    "width = 0.9\n",
    "\n",
    "state = ['India', 'Maharashtra', 'Rajasthan', 'Gujarat', 'Madhya Pradesh', 'Karnataka', 'Uttar Pradesh', 'Delhi', 'Tamil Nadu', 'Nigeria']\n",
    "\n",
    "male = [467577,140476,84649,22357,57431,113598,15852,94,5044,0]\n",
    "\n",
    "female = [437232,129483,81673,21761,52268,106764,14292,98,5040,1]\n",
    "\n",
    "\n",
    "plt.bar(state,male,width,label= 'MALE')\n",
    "\n",
    "plt.bar(state,female,width,bottom=male,label='FEMALE')\n",
    "\n",
    "plt.xlabel('State',fontsize=20)\n",
    "plt.ylabel('Male population',fontsize=20)\n",
    "plt.title('No. of populaiton',fontsize=20)\n",
    "\n",
    "plt.legend()\n",
    "\n",
    "plt.show()"
   ]
  },
  {
   "cell_type": "markdown",
   "id": "5d6bcd80",
   "metadata": {},
   "source": [
    "### Above bar chart shows that In Maharashtra, Karnataka and Madhya Pradesh male ratio for       rural area are more than as compare to female ratio."
   ]
  },
  {
   "cell_type": "code",
   "execution_count": 67,
   "id": "79a3397c",
   "metadata": {},
   "outputs": [
    {
     "data": {
      "text/plain": [
       "0    437232\n",
       "1    129483\n",
       "2     81673\n",
       "3     21761\n",
       "4     52268\n",
       "5    106764\n",
       "6     14292\n",
       "7        98\n",
       "8      5040\n",
       "9         1\n",
       "Name: Female (rural), dtype: int32"
      ]
     },
     "execution_count": 67,
     "metadata": {},
     "output_type": "execute_result"
    }
   ],
   "source": [
    "df['Female (rural)']"
   ]
  },
  {
   "cell_type": "code",
   "execution_count": 68,
   "id": "6e7af5a4",
   "metadata": {},
   "outputs": [
    {
     "data": {
      "text/plain": [
       "0    467577\n",
       "1    140476\n",
       "2     84649\n",
       "3     22357\n",
       "4     57431\n",
       "5    113598\n",
       "6     15852\n",
       "7        94\n",
       "8      5044\n",
       "9         0\n",
       "Name: Male (rural), dtype: int32"
      ]
     },
     "execution_count": 68,
     "metadata": {},
     "output_type": "execute_result"
    }
   ],
   "source": [
    "df['Male (rural)']"
   ]
  },
  {
   "cell_type": "code",
   "execution_count": 69,
   "id": "bf7fdfb4",
   "metadata": {},
   "outputs": [
    {
     "data": {
      "image/png": "[encoded data removed]",
      "text/plain": [
       "<Figure size 720x360 with 1 Axes>"
      ]
     },
     "metadata": {
      "needs_background": "light"
     },
     "output_type": "display_data"
    }
   ],
   "source": [
    "# This is for male and female of urban area.\n",
    "\n",
    "plt.figure(figsize=[10,5])\n",
    "\n",
    "width = 0.9\n",
    "\n",
    "state = ['India', 'Maharashtra', 'Rajasthan', 'Gujarat', 'Madhya Pradesh', 'Karnataka', 'Uttar Pradesh', 'Delhi', 'Tamil Nadu', 'Nigeria']\n",
    "\n",
    "male =[1810520,572681,232965,272554,234506,111946,95142,85511,40561,0]\n",
    "\n",
    "female = [1736424,557709,222736,262982,222823,107972,87981,80528,38620,0]\n",
    "\n",
    "plt.bar(state,male,width,label='MALE')\n",
    "\n",
    "plt.bar(state,female,width,bottom=male,label='FEMALE')\n",
    "\n",
    "plt.xlabel('State',fontsize=16)\n",
    "plt.ylabel('Male and Female Population',fontsize=16)\n",
    "plt.title('Population',fontsize=20)\n",
    "\n",
    "plt.legend()\n",
    "\n",
    "plt.show()"
   ]
  },
  {
   "cell_type": "markdown",
   "id": "b283f22d",
   "metadata": {},
   "source": [
    "## Above chart do not show as much comparison between male and female ratio for urban area."
   ]
  },
  {
   "cell_type": "code",
   "execution_count": 70,
   "id": "43900428",
   "metadata": {},
   "outputs": [
    {
     "data": {
      "text/plain": [
       "0    1736424\n",
       "1     557709\n",
       "2     222736\n",
       "3     262982\n",
       "4     222823\n",
       "5     107972\n",
       "6      87981\n",
       "7      80528\n",
       "8      38620\n",
       "9          0\n",
       "Name: Female (urban), dtype: int32"
      ]
     },
     "execution_count": 70,
     "metadata": {},
     "output_type": "execute_result"
    }
   ],
   "source": [
    "df['Female (urban)']"
   ]
  },
  {
   "cell_type": "code",
   "execution_count": 71,
   "id": "999ea258",
   "metadata": {},
   "outputs": [
    {
     "data": {
      "text/plain": [
       "0    1810520\n",
       "1     572681\n",
       "2     232965\n",
       "3     272554\n",
       "4     234506\n",
       "5     111946\n",
       "6      95142\n",
       "7      85511\n",
       "8      40561\n",
       "9          0\n",
       "Name: Male (urban), dtype: int32"
      ]
     },
     "execution_count": 71,
     "metadata": {},
     "output_type": "execute_result"
    }
   ],
   "source": [
    "df['Male (urban)']"
   ]
  },
  {
   "cell_type": "code",
   "execution_count": 72,
   "id": "f5910016",
   "metadata": {},
   "outputs": [
    {
     "data": {
      "image/png": "[encoded data removed]",
      "text/plain": [
       "<Figure size 720x360 with 1 Axes>"
      ]
     },
     "metadata": {
      "needs_background": "light"
     },
     "output_type": "display_data"
    }
   ],
   "source": [
    "# This is for Persons column of rural and urban area.\n",
    "\n",
    "plt.figure(figsize=[10,5])\n",
    "\n",
    "width = 0.9\n",
    "\n",
    "state = ['India', 'Maharashtra', 'Rajasthan', 'Gujarat', 'Madhya Pradesh', 'Karnataka', 'Uttar Pradesh', 'Delhi', 'Tamil Nadu', 'Nigeria']\n",
    "\n",
    "person_rural = [904809,269959,166322,44118,109699,220362,30144,192,10084,1]\n",
    "\n",
    "person_urban = [3546944,1130390,455701,535536,457329,219918,183123,166039,79181,0]\n",
    "\n",
    "plt.bar(state,person_rural,width,label='Person_Rural')\n",
    "\n",
    "plt.bar(state,person_urban,width,bottom=person_rural,label='Person_Urban')\n",
    "\n",
    "plt.xlabel('State',fontsize=16)\n",
    "plt.ylabel('Person of rural and urban',fontsize=16)\n",
    "plt.title('Population',fontsize=20)\n",
    "\n",
    "plt.legend()\n",
    "\n",
    "plt.show()"
   ]
  },
  {
   "cell_type": "markdown",
   "id": "72af8d07",
   "metadata": {},
   "source": [
    "## In above chart can see Person in urban area are in large number as compare to rural area."
   ]
  },
  {
   "cell_type": "code",
   "execution_count": 73,
   "id": "5ef889c8",
   "metadata": {},
   "outputs": [
    {
     "data": {
      "text/plain": [
       "0    3546944\n",
       "1    1130390\n",
       "2     455701\n",
       "3     535536\n",
       "4     457329\n",
       "5     219918\n",
       "6     183123\n",
       "7     166039\n",
       "8      79181\n",
       "9          0\n",
       "Name: Persons (urban), dtype: int32"
      ]
     },
     "execution_count": 73,
     "metadata": {},
     "output_type": "execute_result"
    }
   ],
   "source": [
    "df['Persons (urban)']"
   ]
  },
  {
   "cell_type": "code",
   "execution_count": 74,
   "id": "ec9e29a2",
   "metadata": {},
   "outputs": [
    {
     "data": {
      "text/plain": [
       "0    904809\n",
       "1    269959\n",
       "2    166322\n",
       "3     44118\n",
       "4    109699\n",
       "5    220362\n",
       "6     30144\n",
       "7       192\n",
       "8     10084\n",
       "9         1\n",
       "Name: Persons (rural), dtype: int32"
      ]
     },
     "execution_count": 74,
     "metadata": {},
     "output_type": "execute_result"
    }
   ],
   "source": [
    "df['Persons (rural)']"
   ]
  },
  {
   "cell_type": "markdown",
   "id": "991cb532",
   "metadata": {},
   "source": [
    "# And conclusion is In Nigeria there is least jain population are showing."
   ]
  }
 ],
 "metadata": {
  "kernelspec": {
   "display_name": "Python 3",
   "language": "python",
   "name": "python3"
  },
  "language_info": {
   "codemirror_mode": {
    "name": "ipython",
    "version": 3
   },
   "file_extension": ".py",
   "mimetype": "text/x-python",
   "name": "python",
   "nbconvert_exporter": "python",
   "pygments_lexer": "ipython3",
   "version": "3.8.8"
  }
 },
 "nbformat": 4,
 "nbformat_minor": 5
}
